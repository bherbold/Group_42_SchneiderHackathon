{
 "cells": [
  {
   "cell_type": "markdown",
   "metadata": {},
   "source": [
    "# Schneiders Hackathon\n",
    "\n",
    "## Group 42\n",
    "\n",
    "### Bendiks Herbold, Catarina Almeida, José Luz"
   ]
  },
  {
   "cell_type": "markdown",
   "metadata": {},
   "source": [
    "**Objective:** Classify satalite images in deforestation types\n"
   ]
  },
  {
   "cell_type": "markdown",
   "metadata": {},
   "source": [
    "## **Import libraries and data**\n"
   ]
  },
  {
   "cell_type": "code",
   "execution_count": 1,
   "metadata": {},
   "outputs": [],
   "source": [
    "#pip install opencv-python"
   ]
  },
  {
   "cell_type": "code",
   "execution_count": 2,
   "metadata": {},
   "outputs": [
    {
     "name": "stderr",
     "output_type": "stream",
     "text": [
      "2022-11-19 22:39:56.402251: I tensorflow/core/platform/cpu_feature_guard.cc:193] This TensorFlow binary is optimized with oneAPI Deep Neural Network Library (oneDNN) to use the following CPU instructions in performance-critical operations:  AVX2 FMA\n",
      "To enable them in other operations, rebuild TensorFlow with the appropriate compiler flags.\n"
     ]
    }
   ],
   "source": [
    "import matplotlib.pyplot as plt\n",
    "import matplotlib.image as mpimg\n",
    "import pandas as pd\n",
    "import numpy as np\n",
    "import tensorflow as tf\n",
    "from tensorflow.keras import layers, models\n",
    "from keras.utils import np_utils\n",
    "import cv2\n"
   ]
  },
  {
   "cell_type": "code",
   "execution_count": 3,
   "metadata": {},
   "outputs": [],
   "source": [
    "def import_Pics (path):\n",
    "    img = cv2.imread(path)\n",
    "    return img"
   ]
  },
  {
   "cell_type": "code",
   "execution_count": 4,
   "metadata": {},
   "outputs": [],
   "source": [
    "# Load the input dataset\n",
    "\n",
    "dataset = pd.read_csv ('train.csv')\n",
    "dataset['example_path'] = dataset['example_path'].apply(import_Pics)\n",
    "\n",
    "dataset_rar = pd.read_csv ('train.csv')\n",
    "dataset_rar['example_path'] = dataset_rar['example_path'].apply(import_Pics)\n",
    "\n",
    "# Normalize data\n",
    "\n",
    "dataset['example_path'] = dataset['example_path'].apply(lambda i: i / 255.0)"
   ]
  },
  {
   "cell_type": "code",
   "execution_count": 5,
   "metadata": {},
   "outputs": [
    {
     "data": {
      "text/html": [
       "<div>\n",
       "<style scoped>\n",
       "    .dataframe tbody tr th:only-of-type {\n",
       "        vertical-align: middle;\n",
       "    }\n",
       "\n",
       "    .dataframe tbody tr th {\n",
       "        vertical-align: top;\n",
       "    }\n",
       "\n",
       "    .dataframe thead th {\n",
       "        text-align: right;\n",
       "    }\n",
       "</style>\n",
       "<table border=\"1\" class=\"dataframe\">\n",
       "  <thead>\n",
       "    <tr style=\"text-align: right;\">\n",
       "      <th></th>\n",
       "      <th>label</th>\n",
       "      <th>latitude</th>\n",
       "      <th>longitude</th>\n",
       "      <th>year</th>\n",
       "      <th>example_path</th>\n",
       "    </tr>\n",
       "  </thead>\n",
       "  <tbody>\n",
       "    <tr>\n",
       "      <th>0</th>\n",
       "      <td>0</td>\n",
       "      <td>-2.051853</td>\n",
       "      <td>111.826093</td>\n",
       "      <td>2001</td>\n",
       "      <td>[[[0.2196078431372549, 0.23137254901960785, 0....</td>\n",
       "    </tr>\n",
       "    <tr>\n",
       "      <th>1</th>\n",
       "      <td>2</td>\n",
       "      <td>-1.989349</td>\n",
       "      <td>105.309496</td>\n",
       "      <td>2013</td>\n",
       "      <td>[[[0.0392156862745098, 0.10588235294117647, 0....</td>\n",
       "    </tr>\n",
       "    <tr>\n",
       "      <th>2</th>\n",
       "      <td>0</td>\n",
       "      <td>1.223256</td>\n",
       "      <td>100.702217</td>\n",
       "      <td>2014</td>\n",
       "      <td>[[[0.07450980392156863, 0.12941176470588237, 0...</td>\n",
       "    </tr>\n",
       "    <tr>\n",
       "      <th>3</th>\n",
       "      <td>0</td>\n",
       "      <td>-2.342948</td>\n",
       "      <td>103.890226</td>\n",
       "      <td>2008</td>\n",
       "      <td>[[[0.050980392156862744, 0.09411764705882353, ...</td>\n",
       "    </tr>\n",
       "    <tr>\n",
       "      <th>4</th>\n",
       "      <td>0</td>\n",
       "      <td>-0.126555</td>\n",
       "      <td>101.758175</td>\n",
       "      <td>2011</td>\n",
       "      <td>[[[0.054901960784313725, 0.12156862745098039, ...</td>\n",
       "    </tr>\n",
       "  </tbody>\n",
       "</table>\n",
       "</div>"
      ],
      "text/plain": [
       "   label  latitude   longitude  year  \\\n",
       "0      0 -2.051853  111.826093  2001   \n",
       "1      2 -1.989349  105.309496  2013   \n",
       "2      0  1.223256  100.702217  2014   \n",
       "3      0 -2.342948  103.890226  2008   \n",
       "4      0 -0.126555  101.758175  2011   \n",
       "\n",
       "                                        example_path  \n",
       "0  [[[0.2196078431372549, 0.23137254901960785, 0....  \n",
       "1  [[[0.0392156862745098, 0.10588235294117647, 0....  \n",
       "2  [[[0.07450980392156863, 0.12941176470588237, 0...  \n",
       "3  [[[0.050980392156862744, 0.09411764705882353, ...  \n",
       "4  [[[0.054901960784313725, 0.12156862745098039, ...  "
      ]
     },
     "execution_count": 5,
     "metadata": {},
     "output_type": "execute_result"
    }
   ],
   "source": [
    "dataset.head()"
   ]
  },
  {
   "cell_type": "code",
   "execution_count": 6,
   "metadata": {},
   "outputs": [
    {
     "data": {
      "image/png": "[encoded data removed]",
      "text/plain": [
       "<Figure size 432x288 with 1 Axes>"
      ]
     },
     "metadata": {
      "needs_background": "light"
     },
     "output_type": "display_data"
    }
   ],
   "source": [
    "plt.axis(\"off\")\n",
    "plt.imshow(cv2.cvtColor(dataset_rar['example_path'][0], cv2.COLOR_BGR2RGB))\n",
    "plt.show()"
   ]
  },
  {
   "cell_type": "markdown",
   "metadata": {},
   "source": [
    "## **2. Understanding the data**\n",
    "\n",
    "Visualize and understand the data to know its characteristics. \n",
    "\n",
    "1. How much data is there? How many attributes are there in the data?  \n",
    "2. What do they mean?\n",
    "3. Is there any missing data? \n",
    "4. Are the labels balanced? \n",
    "5. Statistical summary of the input data set."
   ]
  },
  {
   "cell_type": "markdown",
   "metadata": {},
   "source": [
    "1. **How much data is there? How many attributes are there in the data?**"
   ]
  },
  {
   "cell_type": "code",
   "execution_count": 7,
   "metadata": {},
   "outputs": [
    {
     "data": {
      "text/plain": [
       "(1714, 5)"
      ]
     },
     "execution_count": 7,
     "metadata": {},
     "output_type": "execute_result"
    }
   ],
   "source": [
    "# Data rows/columns\n",
    "\n",
    "dataset.shape"
   ]
  },
  {
   "cell_type": "code",
   "execution_count": 8,
   "metadata": {},
   "outputs": [
    {
     "data": {
      "text/html": [
       "<div>\n",
       "<style scoped>\n",
       "    .dataframe tbody tr th:only-of-type {\n",
       "        vertical-align: middle;\n",
       "    }\n",
       "\n",
       "    .dataframe tbody tr th {\n",
       "        vertical-align: top;\n",
       "    }\n",
       "\n",
       "    .dataframe thead th {\n",
       "        text-align: right;\n",
       "    }\n",
       "</style>\n",
       "<table border=\"1\" class=\"dataframe\">\n",
       "  <thead>\n",
       "    <tr style=\"text-align: right;\">\n",
       "      <th></th>\n",
       "      <th>label</th>\n",
       "      <th>latitude</th>\n",
       "      <th>longitude</th>\n",
       "      <th>year</th>\n",
       "      <th>example_path</th>\n",
       "    </tr>\n",
       "  </thead>\n",
       "  <tbody>\n",
       "    <tr>\n",
       "      <th>0</th>\n",
       "      <td>0</td>\n",
       "      <td>-2.051853</td>\n",
       "      <td>111.826093</td>\n",
       "      <td>2001</td>\n",
       "      <td>[[[0.2196078431372549, 0.23137254901960785, 0....</td>\n",
       "    </tr>\n",
       "    <tr>\n",
       "      <th>1</th>\n",
       "      <td>2</td>\n",
       "      <td>-1.989349</td>\n",
       "      <td>105.309496</td>\n",
       "      <td>2013</td>\n",
       "      <td>[[[0.0392156862745098, 0.10588235294117647, 0....</td>\n",
       "    </tr>\n",
       "    <tr>\n",
       "      <th>2</th>\n",
       "      <td>0</td>\n",
       "      <td>1.223256</td>\n",
       "      <td>100.702217</td>\n",
       "      <td>2014</td>\n",
       "      <td>[[[0.07450980392156863, 0.12941176470588237, 0...</td>\n",
       "    </tr>\n",
       "    <tr>\n",
       "      <th>3</th>\n",
       "      <td>0</td>\n",
       "      <td>-2.342948</td>\n",
       "      <td>103.890226</td>\n",
       "      <td>2008</td>\n",
       "      <td>[[[0.050980392156862744, 0.09411764705882353, ...</td>\n",
       "    </tr>\n",
       "    <tr>\n",
       "      <th>4</th>\n",
       "      <td>0</td>\n",
       "      <td>-0.126555</td>\n",
       "      <td>101.758175</td>\n",
       "      <td>2011</td>\n",
       "      <td>[[[0.054901960784313725, 0.12156862745098039, ...</td>\n",
       "    </tr>\n",
       "  </tbody>\n",
       "</table>\n",
       "</div>"
      ],
      "text/plain": [
       "   label  latitude   longitude  year  \\\n",
       "0      0 -2.051853  111.826093  2001   \n",
       "1      2 -1.989349  105.309496  2013   \n",
       "2      0  1.223256  100.702217  2014   \n",
       "3      0 -2.342948  103.890226  2008   \n",
       "4      0 -0.126555  101.758175  2011   \n",
       "\n",
       "                                        example_path  \n",
       "0  [[[0.2196078431372549, 0.23137254901960785, 0....  \n",
       "1  [[[0.0392156862745098, 0.10588235294117647, 0....  \n",
       "2  [[[0.07450980392156863, 0.12941176470588237, 0...  \n",
       "3  [[[0.050980392156862744, 0.09411764705882353, ...  \n",
       "4  [[[0.054901960784313725, 0.12156862745098039, ...  "
      ]
     },
     "execution_count": 8,
     "metadata": {},
     "output_type": "execute_result"
    }
   ],
   "source": [
    "#check data head\n",
    "dataset.head()"
   ]
  },
  {
   "cell_type": "markdown",
   "metadata": {},
   "source": [
    "**2. What do they mean?** \n",
    "\n"
   ]
  },
  {
   "cell_type": "code",
   "execution_count": 9,
   "metadata": {},
   "outputs": [
    {
     "data": {
      "text/plain": [
       "label             int64\n",
       "latitude        float64\n",
       "longitude       float64\n",
       "year              int64\n",
       "example_path     object\n",
       "dtype: object"
      ]
     },
     "execution_count": 9,
     "metadata": {},
     "output_type": "execute_result"
    }
   ],
   "source": [
    "# Data format\n",
    "dataset.dtypes\n"
   ]
  },
  {
   "cell_type": "markdown",
   "metadata": {},
   "source": [
    "**3. Is any data missing? If so, please indicate how many and in which attribute**. \n",
    "\n"
   ]
  },
  {
   "cell_type": "code",
   "execution_count": 10,
   "metadata": {},
   "outputs": [
    {
     "data": {
      "text/plain": [
       "label           0\n",
       "latitude        0\n",
       "longitude       0\n",
       "year            0\n",
       "example_path    0\n",
       "dtype: int64"
      ]
     },
     "execution_count": 10,
     "metadata": {},
     "output_type": "execute_result"
    }
   ],
   "source": [
    "dataset.isna().sum()"
   ]
  },
  {
   "cell_type": "markdown",
   "metadata": {},
   "source": [
    "**4. Are the targets balanced?** "
   ]
  },
  {
   "cell_type": "code",
   "execution_count": 11,
   "metadata": {},
   "outputs": [
    {
     "name": "stdout",
     "output_type": "stream",
     "text": [
      "0    860\n",
      "2    658\n",
      "1    196\n",
      "Name: label, dtype: int64\n"
     ]
    },
    {
     "data": {
      "text/plain": [
       "<AxesSubplot:ylabel='label'>"
      ]
     },
     "execution_count": 11,
     "metadata": {},
     "output_type": "execute_result"
    },
    {
     "data": {
      "image/png": "[encoded data removed]",
      "text/plain": [
       "<Figure size 432x288 with 1 Axes>"
      ]
     },
     "metadata": {},
     "output_type": "display_data"
    }
   ],
   "source": [
    "# Check if the labels are unbalanced\n",
    "balance_clases = dataset['label'].value_counts()\n",
    "\n",
    "print(balance_clases)\n",
    "\n",
    "# Class balance graph\n",
    "balance_clases.plot.pie()\n",
    "\n",
    "# Very unbalanced Data for class number 1"
   ]
  },
  {
   "cell_type": "code",
   "execution_count": 12,
   "metadata": {},
   "outputs": [],
   "source": [
    "#Get all data point from minority data from class 1\n",
    "\n",
    "is_one_labels = dataset['label'] == 1\n",
    "one_labels = dataset[is_one_labels]\n"
   ]
  },
  {
   "cell_type": "code",
   "execution_count": 13,
   "metadata": {},
   "outputs": [
    {
     "data": {
      "text/plain": [
       "(196, 5)"
      ]
     },
     "execution_count": 13,
     "metadata": {},
     "output_type": "execute_result"
    }
   ],
   "source": [
    "one_labels.shape"
   ]
  },
  {
   "cell_type": "code",
   "execution_count": 14,
   "metadata": {},
   "outputs": [
    {
     "name": "stderr",
     "output_type": "stream",
     "text": [
      "/var/folders/hb/hsxv_19969b646bj1n59j_3w0000gn/T/ipykernel_2409/3128237355.py:3: FutureWarning: The frame.append method is deprecated and will be removed from pandas in a future version. Use pandas.concat instead.\n",
      "  dataset = dataset.append(one_labels)\n"
     ]
    },
    {
     "data": {
      "text/plain": [
       "(1910, 5)"
      ]
     },
     "execution_count": 14,
     "metadata": {},
     "output_type": "execute_result"
    }
   ],
   "source": [
    "# Duplicate these datapoints to get more balanced data \n",
    "\n",
    "dataset = dataset.append(one_labels)\n",
    "\n",
    "dataset.shape"
   ]
  },
  {
   "cell_type": "code",
   "execution_count": 15,
   "metadata": {},
   "outputs": [
    {
     "name": "stdout",
     "output_type": "stream",
     "text": [
      "0    860\n",
      "2    658\n",
      "1    392\n",
      "Name: label, dtype: int64\n"
     ]
    },
    {
     "data": {
      "text/plain": [
       "<AxesSubplot:ylabel='label'>"
      ]
     },
     "execution_count": 15,
     "metadata": {},
     "output_type": "execute_result"
    },
    {
     "data": {
      "image/png": "[encoded data removed]",
      "text/plain": [
       "<Figure size 432x288 with 1 Axes>"
      ]
     },
     "metadata": {},
     "output_type": "display_data"
    }
   ],
   "source": [
    "# Check if the labels are unbalanced\n",
    "\n",
    "balance_clases = dataset['label'].value_counts()\n",
    "\n",
    "print(balance_clases)\n",
    "\n",
    "# Class balance graph\n",
    "balance_clases.plot.pie()"
   ]
  },
  {
   "cell_type": "markdown",
   "metadata": {},
   "source": [
    "**5. Summary statistics of the input data set:** \n",
    "\n",
    "Descriptive statistic values\n"
   ]
  },
  {
   "cell_type": "code",
   "execution_count": 16,
   "metadata": {},
   "outputs": [
    {
     "data": {
      "text/html": [
       "<div>\n",
       "<style scoped>\n",
       "    .dataframe tbody tr th:only-of-type {\n",
       "        vertical-align: middle;\n",
       "    }\n",
       "\n",
       "    .dataframe tbody tr th {\n",
       "        vertical-align: top;\n",
       "    }\n",
       "\n",
       "    .dataframe thead th {\n",
       "        text-align: right;\n",
       "    }\n",
       "</style>\n",
       "<table border=\"1\" class=\"dataframe\">\n",
       "  <thead>\n",
       "    <tr style=\"text-align: right;\">\n",
       "      <th></th>\n",
       "      <th>label</th>\n",
       "      <th>latitude</th>\n",
       "      <th>longitude</th>\n",
       "      <th>year</th>\n",
       "    </tr>\n",
       "  </thead>\n",
       "  <tbody>\n",
       "    <tr>\n",
       "      <th>count</th>\n",
       "      <td>1910.000000</td>\n",
       "      <td>1910.000000</td>\n",
       "      <td>1910.000000</td>\n",
       "      <td>1910.000000</td>\n",
       "    </tr>\n",
       "    <tr>\n",
       "      <th>mean</th>\n",
       "      <td>0.894241</td>\n",
       "      <td>-0.536977</td>\n",
       "      <td>109.069514</td>\n",
       "      <td>2010.262304</td>\n",
       "    </tr>\n",
       "    <tr>\n",
       "      <th>std</th>\n",
       "      <td>0.885432</td>\n",
       "      <td>2.156800</td>\n",
       "      <td>9.303941</td>\n",
       "      <td>4.264168</td>\n",
       "    </tr>\n",
       "    <tr>\n",
       "      <th>min</th>\n",
       "      <td>0.000000</td>\n",
       "      <td>-8.318462</td>\n",
       "      <td>95.902427</td>\n",
       "      <td>2001.000000</td>\n",
       "    </tr>\n",
       "    <tr>\n",
       "      <th>25%</th>\n",
       "      <td>0.000000</td>\n",
       "      <td>-2.021375</td>\n",
       "      <td>101.687689</td>\n",
       "      <td>2007.000000</td>\n",
       "    </tr>\n",
       "    <tr>\n",
       "      <th>50%</th>\n",
       "      <td>1.000000</td>\n",
       "      <td>-0.687980</td>\n",
       "      <td>106.273136</td>\n",
       "      <td>2011.000000</td>\n",
       "    </tr>\n",
       "    <tr>\n",
       "      <th>75%</th>\n",
       "      <td>2.000000</td>\n",
       "      <td>1.025061</td>\n",
       "      <td>114.693711</td>\n",
       "      <td>2014.000000</td>\n",
       "    </tr>\n",
       "    <tr>\n",
       "      <th>max</th>\n",
       "      <td>2.000000</td>\n",
       "      <td>5.014370</td>\n",
       "      <td>140.900849</td>\n",
       "      <td>2016.000000</td>\n",
       "    </tr>\n",
       "  </tbody>\n",
       "</table>\n",
       "</div>"
      ],
      "text/plain": [
       "             label     latitude    longitude         year\n",
       "count  1910.000000  1910.000000  1910.000000  1910.000000\n",
       "mean      0.894241    -0.536977   109.069514  2010.262304\n",
       "std       0.885432     2.156800     9.303941     4.264168\n",
       "min       0.000000    -8.318462    95.902427  2001.000000\n",
       "25%       0.000000    -2.021375   101.687689  2007.000000\n",
       "50%       1.000000    -0.687980   106.273136  2011.000000\n",
       "75%       2.000000     1.025061   114.693711  2014.000000\n",
       "max       2.000000     5.014370   140.900849  2016.000000"
      ]
     },
     "execution_count": 16,
     "metadata": {},
     "output_type": "execute_result"
    }
   ],
   "source": [
    "# Statistical data for each attribute\n",
    "\n",
    "dataset.describe()"
   ]
  },
  {
   "cell_type": "markdown",
   "metadata": {},
   "source": [
    "## **3. Visualize the data**.\n",
    "\n",
    "A visual way to understand the input data. \n",
    "1. Histogram\n",
    "2. Density curve\n",
    "3. Boxplots\n",
    "4. Correlation matrix\n",
    "\n",
    "not so relevant here as we deal with pictures"
   ]
  },
  {
   "cell_type": "markdown",
   "metadata": {},
   "source": [
    "**1. Histogram**\n",
    "\n",
    "Graphical representation of each of the attributes in the form of bars, where the surface of the bar is proportional to the frequency of the values represented."
   ]
  },
  {
   "cell_type": "code",
   "execution_count": 17,
   "metadata": {},
   "outputs": [
    {
     "data": {
      "image/png": "[encoded data removed]",
      "text/plain": [
       "<Figure size 1080x720 with 4 Axes>"
      ]
     },
     "metadata": {
      "needs_background": "light"
     },
     "output_type": "display_data"
    }
   ],
   "source": [
    "histogram = dataset.hist(xlabelsize=10, ylabelsize=10, bins=50, figsize=(15, 10))"
   ]
  },
  {
   "cell_type": "markdown",
   "metadata": {},
   "source": [
    "**2. Density graph**.\n",
    "\n",
    "Visualizes the distribution of the data. It is a variable of the histogram, but removes noise, so they are better for determining the distribution shape of an attribute. Density plot spikes help show where values are most concentrated. "
   ]
  },
  {
   "cell_type": "code",
   "execution_count": 18,
   "metadata": {},
   "outputs": [
    {
     "data": {
      "image/png": "[encoded data removed]",
      "text/plain": [
       "<Figure size 1224x864 with 16 Axes>"
      ]
     },
     "metadata": {
      "needs_background": "light"
     },
     "output_type": "display_data"
    }
   ],
   "source": [
    "density = dataset.plot(kind='kde', x=4, subplots=True, legend=True, layout=(4, 4), figsize=(17, 12), sharex=False,\n",
    "                        fontsize=8, stacked=True) "
   ]
  },
  {
   "cell_type": "markdown",
   "metadata": {},
   "source": [
    "**3. Boxplots** \n",
    "\n",
    "* Which attribute is striking because of its outliers? "
   ]
  },
  {
   "cell_type": "code",
   "execution_count": 19,
   "metadata": {},
   "outputs": [
    {
     "data": {
      "image/png": "[encoded data removed]",
      "text/plain": [
       "<Figure size 1080x720 with 16 Axes>"
      ]
     },
     "metadata": {
      "needs_background": "light"
     },
     "output_type": "display_data"
    }
   ],
   "source": [
    "atributs_boxplot = dataset.plot(kind='box', subplots=True, layout=(4, 4), figsize=(15, 10), sharex=False,\n",
    "                                 sharey=False, fontsize=10)"
   ]
  },
  {
   "cell_type": "markdown",
   "metadata": {},
   "source": [
    "**4. Correlation matrix**. \n",
    "We use Spearman's method to evaluate the monotonic relationship between two continuous variables. \n",
    "\n",
    "Comparison between [Pearson y Spearman]\n",
    "\n",
    "* **Which variable has no correlation with any attribute?** "
   ]
  },
  {
   "cell_type": "code",
   "execution_count": 20,
   "metadata": {
    "scrolled": false
   },
   "outputs": [],
   "source": [
    "#  Other data visualization library: seaborn\n",
    "import seaborn as sns\n",
    "\n",
    "# Calculation of correlation coefficients\n",
    "\n",
    "corr_matrix= dataset.corr(method='spearman')\n",
    "\n"
   ]
  },
  {
   "cell_type": "code",
   "execution_count": 21,
   "metadata": {},
   "outputs": [
    {
     "name": "stderr",
     "output_type": "stream",
     "text": [
      "/var/folders/hb/hsxv_19969b646bj1n59j_3w0000gn/T/ipykernel_2409/2026869443.py:2: DeprecationWarning: `np.bool` is a deprecated alias for the builtin `bool`. To silence this warning, use `bool` by itself. Doing this will not modify any behavior and is safe. If you specifically wanted the numpy scalar type, use `np.bool_` here.\n",
      "Deprecated in NumPy 1.20; for more details and guidance: https://numpy.org/devdocs/release/1.20.0-notes.html#deprecations\n",
      "  mask = np.zeros_like(corr_matrix, dtype=np.bool)\n"
     ]
    },
    {
     "data": {
      "image/png": "[encoded data removed]",
      "text/plain": [
       "<Figure size 864x864 with 2 Axes>"
      ]
     },
     "metadata": {
      "needs_background": "light"
     },
     "output_type": "display_data"
    }
   ],
   "source": [
    "# Remove repeated values\n",
    "mask = np.zeros_like(corr_matrix, dtype=np.bool)\n",
    "mask[np.triu_indices_from(mask)] = True\n",
    "\n",
    "  \n",
    "f, ax = plt.subplots(figsize=(12, 12))\n",
    "\n",
    "#Generate Heat Map,\n",
    "sns.heatmap(corr_matrix, annot=True, fmt=\".2f\" , mask=mask,)\n",
    "    # xticks\n",
    "plt.xticks(range(len(corr_matrix.columns)), corr_matrix.columns);\n",
    "    # yticks\n",
    "plt.yticks(range(len(corr_matrix.columns)), corr_matrix.columns)\n",
    "    # plot\n",
    "plt.show()\n"
   ]
  },
  {
   "cell_type": "markdown",
   "metadata": {},
   "source": [
    "We cannot see the correlation with the RBG Values, we must pass it to numeric *LabelEncoder*."
   ]
  },
  {
   "cell_type": "code",
   "execution_count": 22,
   "metadata": {},
   "outputs": [],
   "source": [
    "# HotEncoder\n",
    "\n",
    "# should be added in further investigation"
   ]
  },
  {
   "cell_type": "markdown",
   "metadata": {},
   "source": [
    "## *4. Prepare the data*.\n",
    "\n",
    "1. Missing data\n",
    "2. Data cleaning (remove outliers).\n",
    "3. LabelEncoding (we have already done it).\n",
    "4. Feature engineering\n",
    "5. Transformation."
   ]
  },
  {
   "cell_type": "markdown",
   "metadata": {},
   "source": [
    "First, I divide the data into **attributes**: X (features) and **tags**: y (target)."
   ]
  },
  {
   "cell_type": "code",
   "execution_count": 23,
   "metadata": {},
   "outputs": [],
   "source": [
    "# Atributes X (features); labels y (target)\n",
    "\n",
    "X = dataset.drop(['label'], axis=1)\n",
    "\n",
    "y = dataset['label']\n",
    "\n"
   ]
  },
  {
   "cell_type": "markdown",
   "metadata": {},
   "source": [
    "**Missing data**\n",
    "\n",
    "Check whether Nan exists in the input data.\n",
    "\n"
   ]
  },
  {
   "cell_type": "code",
   "execution_count": 24,
   "metadata": {},
   "outputs": [
    {
     "data": {
      "text/plain": [
       "latitude        0\n",
       "longitude       0\n",
       "year            0\n",
       "example_path    0\n",
       "dtype: int64"
      ]
     },
     "execution_count": 24,
     "metadata": {},
     "output_type": "execute_result"
    }
   ],
   "source": [
    "# Check for missing data in attributes\n",
    "\n",
    "X.isna().sum()"
   ]
  },
  {
   "cell_type": "code",
   "execution_count": 25,
   "metadata": {},
   "outputs": [
    {
     "data": {
      "text/plain": [
       "0"
      ]
     },
     "execution_count": 25,
     "metadata": {},
     "output_type": "execute_result"
    }
   ],
   "source": [
    "# Check for missing data in the target\n",
    "\n",
    "y.isna().sum()"
   ]
  },
  {
   "cell_type": "code",
   "execution_count": 26,
   "metadata": {},
   "outputs": [
    {
     "data": {
      "text/plain": [
       "latitude        0\n",
       "longitude       0\n",
       "year            0\n",
       "example_path    0\n",
       "dtype: int64"
      ]
     },
     "execution_count": 26,
     "metadata": {},
     "output_type": "execute_result"
    }
   ],
   "source": [
    "# Check that no value is missing\n",
    "X.isna().sum()\n",
    "\n"
   ]
  },
  {
   "cell_type": "code",
   "execution_count": 27,
   "metadata": {},
   "outputs": [],
   "source": [
    "## No changes needed"
   ]
  },
  {
   "cell_type": "markdown",
   "metadata": {},
   "source": [
    "**3. Feature engineering**\n",
    "\n",
    "### drop small correlating features\n",
    "\n",
    "all non RBG values were low collelating\n",
    "\n",
    "**Which attribute(s) are eliminated?**"
   ]
  },
  {
   "cell_type": "code",
   "execution_count": 28,
   "metadata": {},
   "outputs": [],
   "source": [
    "# Delete the attribute\n",
    "\n",
    "X.drop(['latitude', 'longitude','year'], axis=1, inplace=True)\n"
   ]
  },
  {
   "cell_type": "markdown",
   "metadata": {},
   "source": [
    "## *5. Split data*"
   ]
  },
  {
   "cell_type": "code",
   "execution_count": 29,
   "metadata": {},
   "outputs": [],
   "source": [
    "# Get the RBG data in the right dimension and numpy formate for the CNN model\n",
    "\n",
    "X_list = []\n",
    "\n",
    "for i, pic in enumerate(X['example_path']):\n",
    "    X_list.append(pic)\n",
    "\n",
    "X = np.array(X_list)"
   ]
  },
  {
   "cell_type": "code",
   "execution_count": 30,
   "metadata": {},
   "outputs": [
    {
     "data": {
      "text/plain": [
       "(1910, 332, 332, 3)"
      ]
     },
     "execution_count": 30,
     "metadata": {},
     "output_type": "execute_result"
    }
   ],
   "source": [
    "X.shape"
   ]
  },
  {
   "cell_type": "code",
   "execution_count": 31,
   "metadata": {},
   "outputs": [],
   "source": [
    "# Split the data 80/20\n",
    "\n",
    "from sklearn.model_selection import train_test_split\n",
    "\n",
    "test_size = 0.2  # percentage of the input data that you will use to validate the model\n",
    "\n",
    "\n",
    "X_train, X_test, y_train, y_test = train_test_split(X, y, test_size=test_size, random_state=0)\n",
    "\n",
    "X_train, X_val, y_train, y_val = train_test_split(X_train, y_train, test_size=test_size, random_state=0)\n"
   ]
  },
  {
   "cell_type": "markdown",
   "metadata": {},
   "source": [
    "**4. Transformation (scaling, if neccesary)**. \n"
   ]
  },
  {
   "cell_type": "code",
   "execution_count": 32,
   "metadata": {},
   "outputs": [],
   "source": [
    "# already done in Normalization"
   ]
  },
  {
   "cell_type": "markdown",
   "metadata": {},
   "source": [
    "## *6.  Model building and evaluation*"
   ]
  },
  {
   "cell_type": "markdown",
   "metadata": {},
   "source": [
    "Using a CNN model"
   ]
  },
  {
   "cell_type": "code",
   "execution_count": 33,
   "metadata": {
    "scrolled": true
   },
   "outputs": [
    {
     "name": "stderr",
     "output_type": "stream",
     "text": [
      "2022-11-19 22:41:09.466808: I tensorflow/core/platform/cpu_feature_guard.cc:193] This TensorFlow binary is optimized with oneAPI Deep Neural Network Library (oneDNN) to use the following CPU instructions in performance-critical operations:  AVX2 FMA\n",
      "To enable them in other operations, rebuild TensorFlow with the appropriate compiler flags.\n"
     ]
    }
   ],
   "source": [
    "cnn = models.Sequential([\n",
    "    layers.Conv2D(filters=64, kernel_size=(3, 3), activation='relu', input_shape=(332, 332, 3)),\n",
    "    layers.MaxPooling2D((2, 2)),\n",
    "    \n",
    "    layers.Conv2D(filters=128, kernel_size=(3, 3), activation='relu'),\n",
    "    layers.MaxPooling2D((2, 2)),\n",
    "    \n",
    "    layers.Flatten(),\n",
    "    layers.Dense(128, activation='relu'),\n",
    "    layers.Dense(3, activation='softmax')\n",
    "])\n"
   ]
  },
  {
   "cell_type": "code",
   "execution_count": 34,
   "metadata": {},
   "outputs": [],
   "source": [
    "cnn.compile(optimizer='adam',\n",
    "              loss='sparse_categorical_crossentropy',\n",
    "              metrics=['accuracy'])"
   ]
  },
  {
   "cell_type": "code",
   "execution_count": 35,
   "metadata": {},
   "outputs": [
    {
     "name": "stdout",
     "output_type": "stream",
     "text": [
      "Epoch 1/5\n",
      "39/39 [==============================] - 132s 3s/step - loss: 1.9274 - accuracy: 0.4304\n",
      "Epoch 2/5\n",
      "39/39 [==============================] - 124s 3s/step - loss: 0.9676 - accuracy: 0.4959\n",
      "Epoch 3/5\n",
      "39/39 [==============================] - 115s 3s/step - loss: 0.7775 - accuracy: 0.6285\n",
      "Epoch 4/5\n",
      "39/39 [==============================] - 118s 3s/step - loss: 0.4970 - accuracy: 0.8101\n",
      "Epoch 5/5\n",
      "39/39 [==============================] - 112s 3s/step - loss: 0.2529 - accuracy: 0.9247\n"
     ]
    },
    {
     "data": {
      "text/plain": [
       "<keras.callbacks.History at 0x7fed9b664be0>"
      ]
     },
     "execution_count": 35,
     "metadata": {},
     "output_type": "execute_result"
    }
   ],
   "source": [
    "cnn.fit(X_train, y_train, epochs=5)"
   ]
  },
  {
   "cell_type": "markdown",
   "metadata": {},
   "source": [
    "## *7. Evaluate Model*.\n",
    "\n",
    "F1-score"
   ]
  },
  {
   "cell_type": "code",
   "execution_count": 36,
   "metadata": {},
   "outputs": [
    {
     "name": "stdout",
     "output_type": "stream",
     "text": [
      "12/12 [==============================] - 8s 609ms/step\n"
     ]
    }
   ],
   "source": [
    "y_pred = cnn.predict(X_test)"
   ]
  },
  {
   "cell_type": "code",
   "execution_count": 37,
   "metadata": {},
   "outputs": [],
   "source": [
    "y_pred_classes = [np.argmax(element) for element in y_pred]"
   ]
  },
  {
   "cell_type": "code",
   "execution_count": 38,
   "metadata": {},
   "outputs": [
    {
     "name": "stdout",
     "output_type": "stream",
     "text": [
      "Classification Report: \n",
      "               precision    recall  f1-score   support\n",
      "\n",
      "           0       0.66      0.70      0.68       162\n",
      "           1       0.72      0.71      0.72        89\n",
      "           2       0.56      0.53      0.54       131\n",
      "\n",
      "    accuracy                           0.64       382\n",
      "   macro avg       0.65      0.64      0.65       382\n",
      "weighted avg       0.64      0.64      0.64       382\n",
      "\n"
     ]
    }
   ],
   "source": [
    "from sklearn.metrics import classification_report\n",
    "\n",
    "\n",
    "print(\"Classification Report: \\n\", classification_report(y_test, y_pred_classes))\n",
    "\n",
    "\n",
    "\n",
    "\n"
   ]
  },
  {
   "cell_type": "code",
   "execution_count": 39,
   "metadata": {},
   "outputs": [],
   "source": [
    "# Load the input dataset\n",
    "\n",
    "dataset_unlabeled = pd.read_csv ('test.csv')\n",
    "dataset_unlabeled['example_path'] = dataset_unlabeled['example_path'].apply(import_Pics)\n",
    "\n",
    "# Normalize data\n",
    "\n",
    "dataset_unlabeled['example_path'] = dataset_unlabeled['example_path'].apply(lambda i: i / 255)\n",
    "\n",
    "X_unlabeled = dataset_unlabeled\n",
    "\n",
    "X_list_unlabeled = []\n",
    "\n",
    "for i, pic in enumerate(X_unlabeled['example_path']):\n",
    "    X_list_unlabeled.append(pic)\n",
    "    \n",
    "X_unlabeled = np.array(X_list_unlabeled)\n"
   ]
  },
  {
   "cell_type": "code",
   "execution_count": 40,
   "metadata": {},
   "outputs": [
    {
     "data": {
      "text/plain": [
       "(635, 332, 332, 3)"
      ]
     },
     "execution_count": 40,
     "metadata": {},
     "output_type": "execute_result"
    }
   ],
   "source": [
    "X_unlabeled.shape"
   ]
  },
  {
   "cell_type": "code",
   "execution_count": 41,
   "metadata": {},
   "outputs": [
    {
     "name": "stdout",
     "output_type": "stream",
     "text": [
      "20/20 [==============================] - 12s 583ms/step\n"
     ]
    }
   ],
   "source": [
    "y_pred_unlabeled = cnn.predict(X_unlabeled)"
   ]
  },
  {
   "cell_type": "code",
   "execution_count": 42,
   "metadata": {},
   "outputs": [],
   "source": [
    "y_classes_unlabeled = [np.argmax(element) for element in y_pred_unlabeled]"
   ]
  },
  {
   "cell_type": "code",
   "execution_count": 43,
   "metadata": {},
   "outputs": [],
   "source": [
    "#Pass the predictions in a JSON File\n",
    "\n",
    "import json\n",
    "from json import JSONEncoder\n",
    "\n",
    "dataset_names = pd.read_csv ('test.csv')\n",
    "\n",
    "image_indexes = []\n",
    "target_dict = {\"target\":{}}\n",
    "\n",
    "i= 0\n",
    "for  image in dataset_names['example_path']:\n",
    "    image_indexes.append(int(image.split('/')[-1].split('.')[0]))\n",
    "    i = i+1\n",
    "\n",
    "my_dict = {}\n",
    "\n",
    "for i, image in enumerate(image_indexes):\n",
    "    my_dict[str(image)] = int(y_classes_unlabeled[i])\n",
    "\n",
    "target_dict = {\"target\":my_dict}\n",
    "\n",
    "json_object = json.dumps(target_dict,indent=1)\n",
    "\n",
    "with open('target_DT42_FINAL.json', \"w\") as file:\n",
    "    json.dump(target_dict,file)\n"
   ]
  }
 ],
 "metadata": {
  "kernelspec": {
   "display_name": "Python 3 (ipykernel)",
   "language": "python",
   "name": "python3"
  },
  "language_info": {
   "codemirror_mode": {
    "name": "ipython",
    "version": 3
   },
   "file_extension": ".py",
   "mimetype": "text/x-python",
   "name": "python",
   "nbconvert_exporter": "python",
   "pygments_lexer": "ipython3",
   "version": "3.9.12"
  }
 },
 "nbformat": 4,
 "nbformat_minor": 2
}
